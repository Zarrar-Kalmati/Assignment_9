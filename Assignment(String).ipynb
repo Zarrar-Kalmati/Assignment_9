{
 "cells": [
  {
   "cell_type": "markdown",
   "id": "34521e19-c69e-4dfd-896b-e275c1bfe089",
   "metadata": {},
   "source": [
    "## 1. Write a program that accepts a string from user. Your program should count and display number of vowels in that string. "
   ]
  },
  {
   "cell_type": "code",
   "execution_count": 9,
   "id": "56c69da8-3790-4b9d-adf0-34168f808310",
   "metadata": {},
   "outputs": [
    {
     "name": "stdin",
     "output_type": "stream",
     "text": [
      "Enter Your String zarrar\n"
     ]
    },
    {
     "name": "stdout",
     "output_type": "stream",
     "text": [
      "The numbers of Vowels in your strings are: 2\n"
     ]
    }
   ],
   "source": [
    "string=input(\"Enter Your String\").lower()\n",
    "vowels=('a','i','o','u')\n",
    "count=0\n",
    "for a in string:\n",
    "    if a in vowels:\n",
    "        count+=1\n",
    "print(f\"The numbers of Vowels in your strings are: {count}\")"
   ]
  },
  {
   "cell_type": "markdown",
   "id": "41ee22c0-538a-422f-bbf7-13794bfe18ae",
   "metadata": {},
   "source": [
    "## 2. Write a program that reads a string from keyboard and display: \n",
    "* The number of uppercase letters in the string \n",
    "* The number of lowercase letters in the string \n",
    "* The number of digits in the string \n",
    "* The number of whitespace characters in the string"
   ]
  },
  {
   "cell_type": "code",
   "execution_count": 15,
   "id": "08a398b1-e983-4133-84f0-95d72e5a4581",
   "metadata": {},
   "outputs": [
    {
     "name": "stdin",
     "output_type": "stream",
     "text": [
      "Enter the string: K i N G 1865\n"
     ]
    },
    {
     "name": "stdout",
     "output_type": "stream",
     "text": [
      "\n",
      "No. of upper case in your string are  =3\n",
      "No. of lower case in your string are  =1\n",
      "No. of digit in your string are       =4\n",
      "No. of White space in your string are =4\n",
      "    \n"
     ]
    }
   ],
   "source": [
    "string=input(\"Enter the string:\")\n",
    "upper_count=0\n",
    "lower_count=0\n",
    "digits_count=0\n",
    "space_count=0\n",
    "for a in string:\n",
    "    if a.isupper():\n",
    "        upper_count+=1\n",
    "    elif a.islower():\n",
    "        lower_count+=1\n",
    "    elif a.isdigit():\n",
    "        digits_count+=1\n",
    "    else:\n",
    "        if a == \" \":\n",
    "            space_count+=1\n",
    "print(f\"\"\"\n",
    "No. of upper case in your string are  ={upper_count}\n",
    "No. of lower case in your string are  ={lower_count}\n",
    "No. of digit in your string are       ={digits_count}\n",
    "No. of White space in your string are ={space_count}\n",
    "    \"\"\")"
   ]
  },
  {
   "cell_type": "markdown",
   "id": "24e39722-242f-4f9d-a5f7-f52f349ad8c9",
   "metadata": {},
   "source": [
    "## 3. Write a Python program that accepts a string from user. Your program should create and display a new string where the first and last characters have been exchanged."
   ]
  },
  {
   "cell_type": "code",
   "execution_count": 5,
   "id": "1d59b8a7-5f7d-4275-b77c-77f9cbbc229f",
   "metadata": {},
   "outputs": [
    {
     "name": "stdin",
     "output_type": "stream",
     "text": [
      "Enter your string zar\n"
     ]
    },
    {
     "name": "stdout",
     "output_type": "stream",
     "text": [
      "raz\n"
     ]
    }
   ],
   "source": [
    "string=input(\"Enter your string\")\n",
    "string=string[::-1]\n",
    "print(string)\n"
   ]
  },
  {
   "cell_type": "markdown",
   "id": "0ccbc073-02f9-44dc-95e6-6ff07b61d449",
   "metadata": {},
   "source": [
    "## 4. Write a Python program that accepts a string from user. Your program should create a new string in reverse of first string and display it. For example if the user enters the string 'EXAM' then new string would be 'MAXE'"
   ]
  },
  {
   "cell_type": "code",
   "execution_count": 6,
   "id": "6405bf63-58d1-42e8-ba42-47f50ccde583",
   "metadata": {},
   "outputs": [
    {
     "name": "stdin",
     "output_type": "stream",
     "text": [
      "Enter your string EXAM\n"
     ]
    },
    {
     "name": "stdout",
     "output_type": "stream",
     "text": [
      "MAXE\n"
     ]
    }
   ],
   "source": [
    "string=input(\"Enter your string\")\n",
    "string=string[::-1]\n",
    "print(string)"
   ]
  },
  {
   "cell_type": "markdown",
   "id": "04d6c367-48ea-4c2c-930b-197ee69f5a62",
   "metadata": {},
   "source": [
    "## 5. Write a Python program that accepts a string from user. Your program should create a new string by shifting one position to left. For example if the user enters the string 'examination 2021' then new string would be 'xamination 2021e'"
   ]
  },
  {
   "cell_type": "code",
   "execution_count": 12,
   "id": "0a0903f5-c5eb-4007-bc90-9447ff5de524",
   "metadata": {},
   "outputs": [
    {
     "name": "stdin",
     "output_type": "stream",
     "text": [
      "Enter the string: examination 2021\n"
     ]
    },
    {
     "name": "stdout",
     "output_type": "stream",
     "text": [
      "xamination 2021e\n"
     ]
    }
   ],
   "source": [
    "string=input(\"Enter the string:\")\n",
    "first_ch=string[0]\n",
    "rest=string[1::]\n",
    "print(rest+first_ch)"
   ]
  },
  {
   "cell_type": "markdown",
   "id": "49762c05-249e-44da-9eae-b5c2c2403c93",
   "metadata": {},
   "source": [
    "## 6. Write a program that asks the user to input his name and print its initials. Assuming that the user always types first name, middle name and last name and does not include any unnecessary spaces."
   ]
  },
  {
   "cell_type": "code",
   "execution_count": 9,
   "id": "750c6822-73f6-478d-a7c4-f95b6ad944f3",
   "metadata": {},
   "outputs": [
    {
     "name": "stdin",
     "output_type": "stream",
     "text": [
      "enter your full name:  Limine Yamal Footbaal\n"
     ]
    },
    {
     "name": "stdout",
     "output_type": "stream",
     "text": [
      "L. Y. F.\n"
     ]
    }
   ],
   "source": [
    "string = str(input(\"enter your full name: \"))\n",
    "f = string[0]\n",
    "ind1 = string.find(\" \")\n",
    "# print(ind1)\n",
    "m = string[ind1+1]\n",
    "ind2 = string.find(\" \",9)\n",
    "# print(ind2)\n",
    "l = string[ind2+1]\n",
    "print(f\"{f}. {m}. {l}.\")"
   ]
  },
  {
   "cell_type": "markdown",
   "id": "e309235a-ef60-4fdd-b848-d99631a7d9d1",
   "metadata": {},
   "source": [
    "## 7. A palindrome is a string that reads the same backward as forward. For example, the words dad, madam and radar are all palindromes. Write a programs that determines whether the string is a palindrome. \n",
    "    * Note: do not use reverse() method "
   ]
  },
  {
   "cell_type": "code",
   "execution_count": 7,
   "id": "9aaee1f0-5d3d-439c-be81-fb70eb4ecdd6",
   "metadata": {},
   "outputs": [
    {
     "name": "stdin",
     "output_type": "stream",
     "text": [
      "Enter any word: radar\n"
     ]
    },
    {
     "name": "stdout",
     "output_type": "stream",
     "text": [
      "The word is palindrome\n"
     ]
    }
   ],
   "source": [
    "string=input(\"Enter any word:\")\n",
    "if string == string[::-1]:\n",
    "    print(\"The word is palindrome\")\n",
    "else:\n",
    "    print(\"The word is not palindrome\")"
   ]
  },
  {
   "cell_type": "markdown",
   "id": "98e77696-5ccc-4fb8-b46f-dcf393cb9742",
   "metadata": {},
   "source": [
    "## 8. Write a program that display following output: \n",
    "SHIFT \n",
    "HIFTS \n",
    "IFTSH \n",
    "FTSHI \n",
    "TSHIF \n",
    "SHIFT"
   ]
  },
  {
   "cell_type": "code",
   "execution_count": 4,
   "id": "cc660bfa-1148-466a-92db-c7ed9bf5f2d4",
   "metadata": {},
   "outputs": [
    {
     "name": "stdout",
     "output_type": "stream",
     "text": [
      " \n",
      "SHIFT \n",
      "HIFTS \n",
      "IFTSH \n",
      "FTSHI \n",
      "TSHIF \n",
      "SHIFT\n",
      "\n"
     ]
    }
   ],
   "source": [
    "print(\"\"\" \n",
    "SHIFT \n",
    "HIFTS \n",
    "IFTSH \n",
    "FTSHI \n",
    "TSHIF \n",
    "SHIFT\n",
    "\"\"\")"
   ]
  },
  {
   "cell_type": "markdown",
   "id": "0509c2a0-2251-4155-8300-46aeb7a0c20f",
   "metadata": {},
   "source": [
    "## 9. Write a program in python that accepts a string to setup a passwords. Your entered password must meet the following requirements: \n",
    "    -The password must be at least eight characters long. \n",
    "    -It must contain at least one uppercase letter. \n",
    "    -It must contain at least one lowercase letter. \n",
    "    -It must contain at least one numeric digit. \n",
    "    -Your program should should perform this validation. "
   ]
  },
  {
   "cell_type": "code",
   "execution_count": 4,
   "id": "301f70f7-990a-46d5-9617-a19530099044",
   "metadata": {},
   "outputs": [
    {
     "name": "stdin",
     "output_type": "stream",
     "text": [
      "Enter your Password Saeedahmed1865\n"
     ]
    },
    {
     "name": "stdout",
     "output_type": "stream",
     "text": [
      "The password is acceptable\n"
     ]
    }
   ],
   "source": [
    "password=input(\"Enter your Password\")\n",
    "if len(password) >= 8:\n",
    "    pass\n",
    "    if any(c.isupper() for c in password):\n",
    "        pass\n",
    "        if any(c.islower() for c in password):\n",
    "            pass\n",
    "            if any(c.isdigit() for c in password):\n",
    "                print(\"The password is acceptable\")\n",
    "            else:\n",
    "                print(\"The password must contains altealt one digit\")\n",
    "        else:\n",
    "            print(\"The password must contains atleat one small later\")\n",
    "    else:\n",
    "        print(\"The password must contains atleast one capital word\")\n",
    "else:\n",
    "    print(\"The password must contains 8 characterd\")"
   ]
  },
  {
   "cell_type": "code",
   "execution_count": null,
   "id": "6ddfe2e2-ebbb-49cf-bf58-06f876ad3bc3",
   "metadata": {},
   "outputs": [],
   "source": []
  }
 ],
 "metadata": {
  "kernelspec": {
   "display_name": "Python 3 (ipykernel)",
   "language": "python",
   "name": "python3"
  },
  "language_info": {
   "codemirror_mode": {
    "name": "ipython",
    "version": 3
   },
   "file_extension": ".py",
   "mimetype": "text/x-python",
   "name": "python",
   "nbconvert_exporter": "python",
   "pygments_lexer": "ipython3",
   "version": "3.12.7"
  }
 },
 "nbformat": 4,
 "nbformat_minor": 5
}
